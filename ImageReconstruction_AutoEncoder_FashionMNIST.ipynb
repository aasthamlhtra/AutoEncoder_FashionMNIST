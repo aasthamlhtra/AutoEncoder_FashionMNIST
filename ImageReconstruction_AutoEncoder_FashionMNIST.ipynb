{
  "nbformat": 4,
  "nbformat_minor": 0,
  "metadata": {
    "colab": {
      "provenance": [],
      "gpuType": "T4"
    },
    "kernelspec": {
      "name": "python3",
      "display_name": "Python 3"
    },
    "language_info": {
      "name": "python"
    },
    "accelerator": "GPU"
  },
  "cells": [
    {
      "cell_type": "code",
      "execution_count": 1,
      "metadata": {
        "id": "JakfJ9901qT3"
      },
      "outputs": [],
      "source": [
        "import os\n",
        "import torch\n",
        "import torchvision\n",
        "import torch.nn as nn\n",
        "import torchvision.transforms as transforms\n",
        "import torch.optim as optim\n",
        "import matplotlib.pyplot as plt\n",
        "import torch.nn.functional as F\n",
        "\n",
        "from torchvision import datasets\n",
        "from torch.utils.data import DataLoader\n",
        "from torchvision.utils import save_image"
      ]
    },
    {
      "cell_type": "code",
      "source": [
        "NUM_EPOCHS = 50\n",
        "LEARNING_RATE = 1e-3\n",
        "BATCH_SIZE = 128\n",
        "\n",
        "# image transformations\n",
        "transform = transforms.Compose([transforms.ToTensor(),])"
      ],
      "metadata": {
        "id": "Jid395ki1rUf"
      },
      "execution_count": 2,
      "outputs": []
    },
    {
      "cell_type": "code",
      "source": [
        "trainset = datasets.FashionMNIST(\n",
        "    root='./data',\n",
        "    train=True,\n",
        "    download=True,\n",
        "    transform=transform)\n",
        "\n",
        "testset = datasets.FashionMNIST(\n",
        "    root='./data',\n",
        "    train=False,\n",
        "    download=True,\n",
        "    transform=transform)"
      ],
      "metadata": {
        "colab": {
          "base_uri": "https://localhost:8080/"
        },
        "id": "ApKn3KlH1vSr",
        "outputId": "0e37393b-8d1b-4941-e144-9d97fbc2202f"
      },
      "execution_count": 3,
      "outputs": [
        {
          "output_type": "stream",
          "name": "stderr",
          "text": [
            "100%|██████████| 26.4M/26.4M [00:02<00:00, 12.5MB/s]\n",
            "100%|██████████| 29.5k/29.5k [00:00<00:00, 208kB/s]\n",
            "100%|██████████| 4.42M/4.42M [00:01<00:00, 3.86MB/s]\n",
            "100%|██████████| 5.15k/5.15k [00:00<00:00, 9.31MB/s]\n"
          ]
        }
      ]
    },
    {
      "cell_type": "code",
      "source": [
        "trainloader = DataLoader(\n",
        "    trainset,\n",
        "    batch_size=BATCH_SIZE,\n",
        "    shuffle=True)\n",
        "\n",
        "testloader = DataLoader(\n",
        "    testset,\n",
        "    batch_size=BATCH_SIZE,\n",
        "    shuffle=True)"
      ],
      "metadata": {
        "id": "ULjLEwBN1xtM"
      },
      "execution_count": 4,
      "outputs": []
    },
    {
      "cell_type": "code",
      "source": [
        "def get_device():\n",
        "    if torch.cuda.is_available():\n",
        "        device = 'cuda:0'\n",
        "    else:\n",
        "        device = 'cpu'\n",
        "    return device\n",
        "\n",
        "def make_dir():\n",
        "    image_dir = 'FashionMNIST_Images'\n",
        "    if not os.path.exists(image_dir):\n",
        "        os.makedirs(image_dir)\n",
        "\n",
        "def save_decoded_image(img, epoch):\n",
        "    img = img.view(img.size(0), 1, 28, 28)\n",
        "    save_image(img, './FashionMNIST_Images/linear_ae_image{}.png'.format(epoch))"
      ],
      "metadata": {
        "id": "0yWpF9gi10Wm"
      },
      "execution_count": 5,
      "outputs": []
    },
    {
      "cell_type": "code",
      "source": [
        "class Autoencoder(nn.Module):\n",
        "    def __init__(self):\n",
        "        super(Autoencoder, self).__init__()\n",
        "\n",
        "        # encoder\n",
        "        self.enc1 = nn.Linear(in_features=784, out_features=256)\n",
        "        self.enc2 = nn.Linear(in_features=256, out_features=128)\n",
        "        self.enc3 = nn.Linear(in_features=128, out_features=64)\n",
        "        self.enc4 = nn.Linear(in_features=64, out_features=32)\n",
        "        self.enc5 = nn.Linear(in_features=32, out_features=16)\n",
        "\n",
        "        # decoder\n",
        "        self.dec1 = nn.Linear(in_features=16, out_features=32)\n",
        "        self.dec2 = nn.Linear(in_features=32, out_features=64)\n",
        "        self.dec3 = nn.Linear(in_features=64, out_features=128)\n",
        "        self.dec4 = nn.Linear(in_features=128, out_features=256)\n",
        "        self.dec5 = nn.Linear(in_features=256, out_features=784)\n",
        "\n",
        "    def forward(self, x):\n",
        "        x = F.relu(self.enc1(x))\n",
        "        x = F.relu(self.enc2(x))\n",
        "        x = F.relu(self.enc3(x))\n",
        "        x = F.relu(self.enc4(x))\n",
        "        x = F.relu(self.enc5(x))\n",
        "\n",
        "        x = F.relu(self.dec1(x))\n",
        "        x = F.relu(self.dec2(x))\n",
        "        x = F.relu(self.dec3(x))\n",
        "        x = F.relu(self.dec4(x))\n",
        "        x = F.relu(self.dec5(x))\n",
        "        return x\n",
        "\n",
        "net = Autoencoder()\n",
        "print(net)"
      ],
      "metadata": {
        "colab": {
          "base_uri": "https://localhost:8080/"
        },
        "id": "6kVpOsTl13he",
        "outputId": "90e78ff0-d854-4180-92a7-33e52ac65f27"
      },
      "execution_count": 6,
      "outputs": [
        {
          "output_type": "stream",
          "name": "stdout",
          "text": [
            "Autoencoder(\n",
            "  (enc1): Linear(in_features=784, out_features=256, bias=True)\n",
            "  (enc2): Linear(in_features=256, out_features=128, bias=True)\n",
            "  (enc3): Linear(in_features=128, out_features=64, bias=True)\n",
            "  (enc4): Linear(in_features=64, out_features=32, bias=True)\n",
            "  (enc5): Linear(in_features=32, out_features=16, bias=True)\n",
            "  (dec1): Linear(in_features=16, out_features=32, bias=True)\n",
            "  (dec2): Linear(in_features=32, out_features=64, bias=True)\n",
            "  (dec3): Linear(in_features=64, out_features=128, bias=True)\n",
            "  (dec4): Linear(in_features=128, out_features=256, bias=True)\n",
            "  (dec5): Linear(in_features=256, out_features=784, bias=True)\n",
            ")\n"
          ]
        }
      ]
    },
    {
      "cell_type": "code",
      "source": [
        "criterion = nn.MSELoss()\n",
        "optimizer = optim.Adam(net.parameters(), lr=LEARNING_RATE)"
      ],
      "metadata": {
        "id": "TucqsYWE18DK"
      },
      "execution_count": 7,
      "outputs": []
    },
    {
      "cell_type": "code",
      "source": [
        "def train(net, trainloader, NUM_EPOCHS):\n",
        "    train_loss = []\n",
        "    for epoch in range(NUM_EPOCHS):\n",
        "        running_loss = 0.0\n",
        "        for data in trainloader:\n",
        "            img, _ = data\n",
        "            img = img.to(device)\n",
        "            img = img.view(img.size(0), -1)\n",
        "            optimizer.zero_grad()\n",
        "            outputs = net(img)\n",
        "            loss = criterion(outputs, img)\n",
        "            loss.backward()\n",
        "            optimizer.step()\n",
        "            running_loss += loss.item()\n",
        "\n",
        "        loss = running_loss / len(trainloader)\n",
        "        train_loss.append(loss)\n",
        "        print('Epoch {} of {}, Train Loss: {:.3f}'.format(\n",
        "            epoch+1, NUM_EPOCHS, loss))\n",
        "\n",
        "        if epoch % 5 == 0:\n",
        "            save_decoded_image(outputs.cpu().data, epoch)\n",
        "\n",
        "    return train_loss\n",
        "\n",
        "def test_image_reconstruction(net, testloader):\n",
        "     for batch in testloader:\n",
        "        img, _ = batch\n",
        "        img = img.to(device)\n",
        "        img = img.view(img.size(0), -1)\n",
        "        outputs = net(img)\n",
        "        outputs = outputs.view(outputs.size(0), 1, 28, 28).cpu().data\n",
        "        save_image(outputs, 'fashionmnist_reconstruction.png')\n",
        "        break\n"
      ],
      "metadata": {
        "id": "0GKfyeMs1-id"
      },
      "execution_count": 8,
      "outputs": []
    },
    {
      "cell_type": "code",
      "source": [
        "device = get_device()\n",
        "print(device)\n",
        "# load the neural network onto the device\n",
        "net.to(device)\n",
        "\n",
        "make_dir()\n",
        "\n",
        "# train the network\n",
        "train_loss = train(net, trainloader, NUM_EPOCHS)\n",
        "\n",
        "# Plot training results\n",
        "plt.figure()\n",
        "plt.plot(train_loss)\n",
        "plt.title('Train Loss')\n",
        "plt.xlabel('Epochs')\n",
        "plt.ylabel('Loss')\n",
        "plt.savefig('deep_ae_fashionmnist_loss.png')"
      ],
      "metadata": {
        "colab": {
          "base_uri": "https://localhost:8080/",
          "height": 1000
        },
        "id": "6x5YyO7a2Cdp",
        "outputId": "4f58acee-10b6-49b6-8aa4-4025e5e50813"
      },
      "execution_count": 9,
      "outputs": [
        {
          "output_type": "stream",
          "name": "stdout",
          "text": [
            "cuda:0\n",
            "Epoch 1 of 50, Train Loss: 0.073\n",
            "Epoch 2 of 50, Train Loss: 0.043\n",
            "Epoch 3 of 50, Train Loss: 0.037\n",
            "Epoch 4 of 50, Train Loss: 0.033\n",
            "Epoch 5 of 50, Train Loss: 0.031\n",
            "Epoch 6 of 50, Train Loss: 0.029\n",
            "Epoch 7 of 50, Train Loss: 0.028\n",
            "Epoch 8 of 50, Train Loss: 0.027\n",
            "Epoch 9 of 50, Train Loss: 0.025\n",
            "Epoch 10 of 50, Train Loss: 0.025\n",
            "Epoch 11 of 50, Train Loss: 0.024\n",
            "Epoch 12 of 50, Train Loss: 0.024\n",
            "Epoch 13 of 50, Train Loss: 0.024\n",
            "Epoch 14 of 50, Train Loss: 0.023\n",
            "Epoch 15 of 50, Train Loss: 0.023\n",
            "Epoch 16 of 50, Train Loss: 0.022\n",
            "Epoch 17 of 50, Train Loss: 0.022\n",
            "Epoch 18 of 50, Train Loss: 0.021\n",
            "Epoch 19 of 50, Train Loss: 0.021\n",
            "Epoch 20 of 50, Train Loss: 0.021\n",
            "Epoch 21 of 50, Train Loss: 0.020\n",
            "Epoch 22 of 50, Train Loss: 0.020\n",
            "Epoch 23 of 50, Train Loss: 0.020\n",
            "Epoch 24 of 50, Train Loss: 0.020\n",
            "Epoch 25 of 50, Train Loss: 0.019\n",
            "Epoch 26 of 50, Train Loss: 0.019\n",
            "Epoch 27 of 50, Train Loss: 0.019\n",
            "Epoch 28 of 50, Train Loss: 0.019\n",
            "Epoch 29 of 50, Train Loss: 0.019\n",
            "Epoch 30 of 50, Train Loss: 0.019\n",
            "Epoch 31 of 50, Train Loss: 0.019\n",
            "Epoch 32 of 50, Train Loss: 0.019\n",
            "Epoch 33 of 50, Train Loss: 0.019\n",
            "Epoch 34 of 50, Train Loss: 0.018\n",
            "Epoch 35 of 50, Train Loss: 0.018\n",
            "Epoch 36 of 50, Train Loss: 0.018\n",
            "Epoch 37 of 50, Train Loss: 0.018\n",
            "Epoch 38 of 50, Train Loss: 0.018\n",
            "Epoch 39 of 50, Train Loss: 0.018\n",
            "Epoch 40 of 50, Train Loss: 0.018\n",
            "Epoch 41 of 50, Train Loss: 0.018\n",
            "Epoch 42 of 50, Train Loss: 0.018\n",
            "Epoch 43 of 50, Train Loss: 0.018\n",
            "Epoch 44 of 50, Train Loss: 0.018\n",
            "Epoch 45 of 50, Train Loss: 0.018\n",
            "Epoch 46 of 50, Train Loss: 0.018\n",
            "Epoch 47 of 50, Train Loss: 0.018\n",
            "Epoch 48 of 50, Train Loss: 0.018\n",
            "Epoch 49 of 50, Train Loss: 0.017\n",
            "Epoch 50 of 50, Train Loss: 0.017\n"
          ]
        },
        {
          "output_type": "display_data",
          "data": {
            "text/plain": [
              "<Figure size 640x480 with 1 Axes>"
            ],
            "image/png": "[encoded data removed]"
          },
          "metadata": {}
        }
      ]
    },
    {
      "cell_type": "code",
      "source": [
        "test_image_reconstruction(net, testloader)"
      ],
      "metadata": {
        "id": "Whyz_Vyc2GLQ"
      },
      "execution_count": 10,
      "outputs": []
    },
    {
      "cell_type": "code",
      "source": [],
      "metadata": {
        "id": "KPG_aI7q43Pz"
      },
      "execution_count": null,
      "outputs": []
    }
  ]
}